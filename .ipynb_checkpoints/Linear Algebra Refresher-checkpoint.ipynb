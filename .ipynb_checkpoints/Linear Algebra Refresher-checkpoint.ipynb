{
 "cells": [
  {
   "cell_type": "code",
   "execution_count": 68,
   "metadata": {
    "collapsed": false
   },
   "outputs": [],
   "source": [
    "import math\n",
    "\n",
    "class Vector(object):\n",
    "    def __init__(self, coordinates):\n",
    "        try:\n",
    "            if not coordinates:\n",
    "                raise ValueError\n",
    "            self.coordinates = tuple(coordinates)\n",
    "            self.dimension = len(coordinates)\n",
    "        except ValueError:\n",
    "            raise ValueError('The coordinates must be nonempty')\n",
    "        except TypeError:\n",
    "            raise TypeError('The coordinates must be an iterable')\n",
    "    \n",
    "    def plus(self, v):\n",
    "        new_coordinates = [x+y for x,y in zip(self.coordinates, v.coordinates)]\n",
    "        return Vector(new_coordinates)\n",
    "    \n",
    "    def minus(self, v):\n",
    "        new_coordinates = [x-y for x,y in zip(self.coordinates, v.coordinates)]\n",
    "        return Vector(new_coordinates)\n",
    "    \n",
    "    def times_scalar(self, c):\n",
    "        new_coordinates = [c*x for x in self.coordinates]\n",
    "        return Vector(new_coordinates)\n",
    "    \n",
    "    def magnitude(self):\n",
    "        squared = [x**2 for x in self.coordinates]\n",
    "        return math.sqrt(sum(squared))\n",
    "            \n",
    "    def __str__(self):\n",
    "        return 'Vector: {}'.format(self.coordinates)\n",
    "    \n",
    "    def __eq__(self, v):\n",
    "        return self.coordinates == v.coordinates"
   ]
  },
  {
   "cell_type": "code",
   "execution_count": 69,
   "metadata": {
    "collapsed": false
   },
   "outputs": [
    {
     "name": "stdout",
     "output_type": "stream",
     "text": [
      "Vector: (7.089, -7.229999999999999)\n"
     ]
    }
   ],
   "source": [
    "my_vector = Vector([8.218, -9.341])\n",
    "print(my_vector.plus(Vector([-1.129, 2.111])))"
   ]
  },
  {
   "cell_type": "code",
   "execution_count": 70,
   "metadata": {
    "collapsed": false
   },
   "outputs": [
    {
     "name": "stdout",
     "output_type": "stream",
     "text": [
      "Vector: (15.342, 7.337)\n"
     ]
    }
   ],
   "source": [
    "my_vector = Vector([7.119, 8.215])\n",
    "print(my_vector.minus(Vector([-8.223, 0.878])))"
   ]
  },
  {
   "cell_type": "code",
   "execution_count": 71,
   "metadata": {
    "collapsed": false
   },
   "outputs": [
    {
     "name": "stdout",
     "output_type": "stream",
     "text": [
      "Vector: (12.38211, -7.49892, -2.35638)\n"
     ]
    }
   ],
   "source": [
    "my_vector = Vector([1.671, -1.012, -0.318])\n",
    "print(my_vector.times_scalar(7.41))"
   ]
  },
  {
   "cell_type": "code",
   "execution_count": 72,
   "metadata": {
    "collapsed": false
   },
   "outputs": [
    {
     "data": {
      "text/plain": [
       "7.440282924728065"
      ]
     },
     "execution_count": 72,
     "metadata": {},
     "output_type": "execute_result"
    }
   ],
   "source": [
    "Vector([-0.221, 7.437]).magnitude()"
   ]
  },
  {
   "cell_type": "code",
   "execution_count": null,
   "metadata": {
    "collapsed": true
   },
   "outputs": [],
   "source": []
  }
 ],
 "metadata": {
  "kernelspec": {
   "display_name": "Python [default]",
   "language": "python",
   "name": "python3"
  },
  "language_info": {
   "codemirror_mode": {
    "name": "ipython",
    "version": 3
   },
   "file_extension": ".py",
   "mimetype": "text/x-python",
   "name": "python",
   "nbconvert_exporter": "python",
   "pygments_lexer": "ipython3",
   "version": "3.5.2"
  }
 },
 "nbformat": 4,
 "nbformat_minor": 1
}
